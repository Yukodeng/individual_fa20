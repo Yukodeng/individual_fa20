{
 "cells": [
  {
   "cell_type": "code",
   "execution_count": 37,
   "metadata": {},
   "outputs": [],
   "source": [
    "#!pip install statsmodels\n",
    "\n",
    "# Display plots directly in the notebook\n",
    "%matplotlib inline\n",
    "#!conda install -c conda-forge geopandas\n",
    "\n",
    "# Import libraries\n",
    "import numpy as np\n",
    "import pandas as pd\n",
    "import geopandas as gpd\n",
    "\n",
    "import matplotlib.pyplot as plt\n",
    "import matplotlib as mpl\n",
    "\n",
    "import seaborn as sns\n",
    "\n",
    "import patsy\n",
    "#import statsmodels.api as sm"
   ]
  },
  {
   "cell_type": "code",
   "execution_count": 71,
   "metadata": {},
   "outputs": [],
   "source": [
    "yelp_SD = pd.read_csv('../data/yelp_SD_parks.csv')\n",
    "park_df = gpd.read_file('../data/parks_datasd.geojson')\n",
    "#access_df = pd.read_excel('../data/hci_accesstoparks_469_ca_re_co_cd_pl_ct-7-3-2017-ada.xlsx')"
   ]
  },
  {
   "cell_type": "code",
   "execution_count": 72,
   "metadata": {},
   "outputs": [],
   "source": [
    "#access_df.columns"
   ]
  },
  {
   "cell_type": "code",
   "execution_count": 73,
   "metadata": {
    "scrolled": true
   },
   "outputs": [],
   "source": [
    "#access_df = access_df.loc[access_df['region_code']==9.0,\n",
    "                         # ['ind_id','race_eth_name','numerator','estimate']]"
   ]
  },
  {
   "cell_type": "code",
   "execution_count": 74,
   "metadata": {},
   "outputs": [],
   "source": [
    "#access_df.iloc[:10]"
   ]
  },
  {
   "cell_type": "code",
   "execution_count": 75,
   "metadata": {},
   "outputs": [],
   "source": [
    "#drop columns don't need\n",
    "park_df = park_df.drop(columns=['objectid','name','location','park_type','owner','geometry'])\n",
    "park_df = park_df.rename(columns={'alias':'name', 'gis_acres':'acres'})"
   ]
  },
  {
   "cell_type": "code",
   "execution_count": 76,
   "metadata": {
    "scrolled": true
   },
   "outputs": [
    {
     "data": {
      "text/html": [
       "<div>\n",
       "<style scoped>\n",
       "    .dataframe tbody tr th:only-of-type {\n",
       "        vertical-align: middle;\n",
       "    }\n",
       "\n",
       "    .dataframe tbody tr th {\n",
       "        vertical-align: top;\n",
       "    }\n",
       "\n",
       "    .dataframe thead th {\n",
       "        text-align: right;\n",
       "    }\n",
       "</style>\n",
       "<table border=\"1\" class=\"dataframe\">\n",
       "  <thead>\n",
       "    <tr style=\"text-align: right;\">\n",
       "      <th></th>\n",
       "      <th>name</th>\n",
       "      <th>acres</th>\n",
       "    </tr>\n",
       "  </thead>\n",
       "  <tbody>\n",
       "    <tr>\n",
       "      <th>0</th>\n",
       "      <td>South Carlsbad State Beach</td>\n",
       "      <td>115.895878</td>\n",
       "    </tr>\n",
       "    <tr>\n",
       "      <th>1</th>\n",
       "      <td>Torrey Pines State Beach</td>\n",
       "      <td>67.294309</td>\n",
       "    </tr>\n",
       "    <tr>\n",
       "      <th>2</th>\n",
       "      <td>Ruocco Park</td>\n",
       "      <td>3.312526</td>\n",
       "    </tr>\n",
       "    <tr>\n",
       "      <th>3</th>\n",
       "      <td>Tuna Harbor Park</td>\n",
       "      <td>0.639035</td>\n",
       "    </tr>\n",
       "    <tr>\n",
       "      <th>4</th>\n",
       "      <td>San Diego Bayfront Park</td>\n",
       "      <td>3.669272</td>\n",
       "    </tr>\n",
       "  </tbody>\n",
       "</table>\n",
       "</div>"
      ],
      "text/plain": [
       "                         name       acres\n",
       "0  South Carlsbad State Beach  115.895878\n",
       "1    Torrey Pines State Beach   67.294309\n",
       "2                 Ruocco Park    3.312526\n",
       "3            Tuna Harbor Park    0.639035\n",
       "4     San Diego Bayfront Park    3.669272"
      ]
     },
     "execution_count": 76,
     "metadata": {},
     "output_type": "execute_result"
    }
   ],
   "source": [
    "park_df.head()"
   ]
  },
  {
   "cell_type": "code",
   "execution_count": 77,
   "metadata": {},
   "outputs": [],
   "source": [
    "yelp_SD = yelp_SD.drop(columns=['phone','id','url','longitude','latitude','is_closed'])"
   ]
  },
  {
   "cell_type": "code",
   "execution_count": 78,
   "metadata": {},
   "outputs": [],
   "source": [
    "# Transform address to zipcode\n",
    "def address_to_zip(string):\n",
    "    zip = []\n",
    "    for str in string:\n",
    "        if str[-5] == '9':\n",
    "            zip.append(str[-5:]) \n",
    "        else:\n",
    "            zip.append(str)\n",
    "          \n",
    "    return zip"
   ]
  },
  {
   "cell_type": "code",
   "execution_count": 79,
   "metadata": {},
   "outputs": [],
   "source": [
    "yelp_SD['zipcode'] = address_to_zip(yelp_SD['address'])"
   ]
  },
  {
   "cell_type": "code",
   "execution_count": 80,
   "metadata": {},
   "outputs": [
    {
     "data": {
      "text/plain": [
       "count      833.000000\n",
       "mean       201.246098\n",
       "std        744.775857\n",
       "min          1.000000\n",
       "25%          6.000000\n",
       "50%         22.000000\n",
       "75%        109.000000\n",
       "max      14195.000000\n",
       "Name: review_count, dtype: float64"
      ]
     },
     "execution_count": 80,
     "metadata": {},
     "output_type": "execute_result"
    }
   ],
   "source": [
    "yelp_SD = yelp_SD.loc[:,['name','zipcode','rating','review_count']]\n",
    "yelp_SD['review_count'].describe()"
   ]
  },
  {
   "cell_type": "code",
   "execution_count": 88,
   "metadata": {
    "scrolled": true
   },
   "outputs": [
    {
     "data": {
      "text/html": [
       "<div>\n",
       "<style scoped>\n",
       "    .dataframe tbody tr th:only-of-type {\n",
       "        vertical-align: middle;\n",
       "    }\n",
       "\n",
       "    .dataframe tbody tr th {\n",
       "        vertical-align: top;\n",
       "    }\n",
       "\n",
       "    .dataframe thead th {\n",
       "        text-align: right;\n",
       "    }\n",
       "</style>\n",
       "<table border=\"1\" class=\"dataframe\">\n",
       "  <thead>\n",
       "    <tr style=\"text-align: right;\">\n",
       "      <th></th>\n",
       "      <th>name</th>\n",
       "      <th>zipcode</th>\n",
       "      <th>rating</th>\n",
       "      <th>review_count</th>\n",
       "    </tr>\n",
       "  </thead>\n",
       "  <tbody>\n",
       "    <tr>\n",
       "      <th>0</th>\n",
       "      <td>Balboa Park</td>\n",
       "      <td>92101</td>\n",
       "      <td>5.0</td>\n",
       "      <td>2105</td>\n",
       "    </tr>\n",
       "    <tr>\n",
       "      <th>207</th>\n",
       "      <td>North Coast Repertory Theatre</td>\n",
       "      <td>92075</td>\n",
       "      <td>5.0</td>\n",
       "      <td>34</td>\n",
       "    </tr>\n",
       "    <tr>\n",
       "      <th>186</th>\n",
       "      <td>San Diego Burial At Sea</td>\n",
       "      <td>92106</td>\n",
       "      <td>5.0</td>\n",
       "      <td>26</td>\n",
       "    </tr>\n",
       "    <tr>\n",
       "      <th>283</th>\n",
       "      <td>The Color Collective Salon</td>\n",
       "      <td>92103</td>\n",
       "      <td>5.0</td>\n",
       "      <td>40</td>\n",
       "    </tr>\n",
       "    <tr>\n",
       "      <th>240</th>\n",
       "      <td>Self Realization Fellowship Hermitage &amp; Medita...</td>\n",
       "      <td>92024</td>\n",
       "      <td>5.0</td>\n",
       "      <td>345</td>\n",
       "    </tr>\n",
       "  </tbody>\n",
       "</table>\n",
       "</div>"
      ],
      "text/plain": [
       "                                                  name zipcode  rating  \\\n",
       "0                                          Balboa Park   92101     5.0   \n",
       "207                      North Coast Repertory Theatre   92075     5.0   \n",
       "186                            San Diego Burial At Sea   92106     5.0   \n",
       "283                         The Color Collective Salon   92103     5.0   \n",
       "240  Self Realization Fellowship Hermitage & Medita...   92024     5.0   \n",
       "\n",
       "     review_count  \n",
       "0            2105  \n",
       "207            34  \n",
       "186            26  \n",
       "283            40  \n",
       "240           345  "
      ]
     },
     "execution_count": 88,
     "metadata": {},
     "output_type": "execute_result"
    }
   ],
   "source": [
    "yelp_SD = yelp_SD.sort_values(by='rating', ascending=False)\n",
    "df_drop = yelp_SD[yelp_SD['review_count']<= 6]\n",
    "yelp_SD = yelp_SD.drop(df_drop.index)\n",
    "yelp_SD.head()"
   ]
  },
  {
   "cell_type": "code",
   "execution_count": 85,
   "metadata": {
    "scrolled": true
   },
   "outputs": [
    {
     "name": "stdout",
     "output_type": "stream",
     "text": [
      "(2769, 2) (532, 4)\n"
     ]
    }
   ],
   "source": [
    "print(park_df.shape, yelp_SD.shape)"
   ]
  },
  {
   "cell_type": "code",
   "execution_count": 114,
   "metadata": {},
   "outputs": [
    {
     "data": {
      "text/html": [
       "<div>\n",
       "<style scoped>\n",
       "    .dataframe tbody tr th:only-of-type {\n",
       "        vertical-align: middle;\n",
       "    }\n",
       "\n",
       "    .dataframe tbody tr th {\n",
       "        vertical-align: top;\n",
       "    }\n",
       "\n",
       "    .dataframe thead th {\n",
       "        text-align: right;\n",
       "    }\n",
       "</style>\n",
       "<table border=\"1\" class=\"dataframe\">\n",
       "  <thead>\n",
       "    <tr style=\"text-align: right;\">\n",
       "      <th></th>\n",
       "      <th>name</th>\n",
       "      <th>acres</th>\n",
       "    </tr>\n",
       "  </thead>\n",
       "  <tbody>\n",
       "  </tbody>\n",
       "</table>\n",
       "</div>"
      ],
      "text/plain": [
       "Empty GeoDataFrame\n",
       "Columns: [name, acres]\n",
       "Index: []"
      ]
     },
     "execution_count": 114,
     "metadata": {},
     "output_type": "execute_result"
    }
   ],
   "source": [
    "park_df.loc[park_df['name']== 'Zeglio Custom Clothiers']"
   ]
  },
  {
   "cell_type": "code",
   "execution_count": 107,
   "metadata": {},
   "outputs": [
    {
     "data": {
      "text/plain": [
       "669                      Quality Mobile Screens\n",
       "279                                   CurlCraft\n",
       "717                     Zeglio Custom Clothiers\n",
       "530                       San Diego Rowing Club\n",
       "526                        St Therese of Carmel\n",
       "633             Superb Mortgage and Real Estate\n",
       "613                             Ceramic Heights\n",
       "540                    Aall In Limo & Party Bus\n",
       "57     Mount Soledad National Veterans Memorial\n",
       "724                 Mesa Clothing & Alterations\n",
       "Name: name, dtype: object"
      ]
     },
     "execution_count": 107,
     "metadata": {},
     "output_type": "execute_result"
    }
   ],
   "source": [
    "yelp_SD['name'].iloc[20:30]"
   ]
  },
  {
   "cell_type": "code",
   "execution_count": 118,
   "metadata": {},
   "outputs": [
    {
     "data": {
      "text/html": [
       "<div>\n",
       "<style scoped>\n",
       "    .dataframe tbody tr th:only-of-type {\n",
       "        vertical-align: middle;\n",
       "    }\n",
       "\n",
       "    .dataframe tbody tr th {\n",
       "        vertical-align: top;\n",
       "    }\n",
       "\n",
       "    .dataframe thead th {\n",
       "        text-align: right;\n",
       "    }\n",
       "</style>\n",
       "<table border=\"1\" class=\"dataframe\">\n",
       "  <thead>\n",
       "    <tr style=\"text-align: right;\">\n",
       "      <th></th>\n",
       "      <th>name</th>\n",
       "      <th>zipcode</th>\n",
       "      <th>rating</th>\n",
       "      <th>review_count</th>\n",
       "      <th>acres</th>\n",
       "    </tr>\n",
       "  </thead>\n",
       "  <tbody>\n",
       "    <tr>\n",
       "      <th>0</th>\n",
       "      <td>Balboa Park</td>\n",
       "      <td>92101</td>\n",
       "      <td>5.0</td>\n",
       "      <td>2105</td>\n",
       "      <td>1089.476460</td>\n",
       "    </tr>\n",
       "    <tr>\n",
       "      <th>1</th>\n",
       "      <td>Kellogg Park</td>\n",
       "      <td>92037</td>\n",
       "      <td>5.0</td>\n",
       "      <td>17</td>\n",
       "      <td>8.024891</td>\n",
       "    </tr>\n",
       "    <tr>\n",
       "      <th>2</th>\n",
       "      <td>Sunset Cliffs Natural Park</td>\n",
       "      <td>92107</td>\n",
       "      <td>5.0</td>\n",
       "      <td>935</td>\n",
       "      <td>67.109374</td>\n",
       "    </tr>\n",
       "    <tr>\n",
       "      <th>3</th>\n",
       "      <td>4S Ranch Community Park</td>\n",
       "      <td>92127</td>\n",
       "      <td>5.0</td>\n",
       "      <td>17</td>\n",
       "      <td>3.241830</td>\n",
       "    </tr>\n",
       "    <tr>\n",
       "      <th>4</th>\n",
       "      <td>Otay Lakes County Park</td>\n",
       "      <td>91915</td>\n",
       "      <td>4.5</td>\n",
       "      <td>21</td>\n",
       "      <td>10.349566</td>\n",
       "    </tr>\n",
       "    <tr>\n",
       "      <th>...</th>\n",
       "      <td>...</td>\n",
       "      <td>...</td>\n",
       "      <td>...</td>\n",
       "      <td>...</td>\n",
       "      <td>...</td>\n",
       "    </tr>\n",
       "    <tr>\n",
       "      <th>114</th>\n",
       "      <td>Poway Dog Park</td>\n",
       "      <td>92064</td>\n",
       "      <td>3.5</td>\n",
       "      <td>82</td>\n",
       "      <td>1.838939</td>\n",
       "    </tr>\n",
       "    <tr>\n",
       "      <th>115</th>\n",
       "      <td>Pantoja Park</td>\n",
       "      <td>92101</td>\n",
       "      <td>3.5</td>\n",
       "      <td>26</td>\n",
       "      <td>2.148412</td>\n",
       "    </tr>\n",
       "    <tr>\n",
       "      <th>116</th>\n",
       "      <td>Clay Park</td>\n",
       "      <td>92115</td>\n",
       "      <td>3.5</td>\n",
       "      <td>16</td>\n",
       "      <td>2.407481</td>\n",
       "    </tr>\n",
       "    <tr>\n",
       "      <th>117</th>\n",
       "      <td>El Toyon Park</td>\n",
       "      <td>91950</td>\n",
       "      <td>3.0</td>\n",
       "      <td>17</td>\n",
       "      <td>22.868727</td>\n",
       "    </tr>\n",
       "    <tr>\n",
       "      <th>118</th>\n",
       "      <td>Horton Plaza Park</td>\n",
       "      <td>92101</td>\n",
       "      <td>3.0</td>\n",
       "      <td>47</td>\n",
       "      <td>0.455256</td>\n",
       "    </tr>\n",
       "  </tbody>\n",
       "</table>\n",
       "<p>119 rows × 5 columns</p>\n",
       "</div>"
      ],
      "text/plain": [
       "                           name zipcode  rating  review_count        acres\n",
       "0                   Balboa Park   92101     5.0          2105  1089.476460\n",
       "1                  Kellogg Park   92037     5.0            17     8.024891\n",
       "2    Sunset Cliffs Natural Park   92107     5.0           935    67.109374\n",
       "3       4S Ranch Community Park   92127     5.0            17     3.241830\n",
       "4        Otay Lakes County Park   91915     4.5            21    10.349566\n",
       "..                          ...     ...     ...           ...          ...\n",
       "114              Poway Dog Park   92064     3.5            82     1.838939\n",
       "115                Pantoja Park   92101     3.5            26     2.148412\n",
       "116                   Clay Park   92115     3.5            16     2.407481\n",
       "117               El Toyon Park   91950     3.0            17    22.868727\n",
       "118           Horton Plaza Park   92101     3.0            47     0.455256\n",
       "\n",
       "[119 rows x 5 columns]"
      ]
     },
     "execution_count": 118,
     "metadata": {},
     "output_type": "execute_result"
    }
   ],
   "source": [
    "df = pd.merge(yelp_SD, park_df, on='name')\n",
    "df"
   ]
  },
  {
   "cell_type": "code",
   "execution_count": 120,
   "metadata": {},
   "outputs": [
    {
     "data": {
      "text/html": [
       "<div>\n",
       "<style scoped>\n",
       "    .dataframe tbody tr th:only-of-type {\n",
       "        vertical-align: middle;\n",
       "    }\n",
       "\n",
       "    .dataframe tbody tr th {\n",
       "        vertical-align: top;\n",
       "    }\n",
       "\n",
       "    .dataframe thead th {\n",
       "        text-align: right;\n",
       "    }\n",
       "</style>\n",
       "<table border=\"1\" class=\"dataframe\">\n",
       "  <thead>\n",
       "    <tr style=\"text-align: right;\">\n",
       "      <th></th>\n",
       "      <th>name</th>\n",
       "      <th>acres</th>\n",
       "      <th>name</th>\n",
       "      <th>zipcode</th>\n",
       "      <th>rating</th>\n",
       "      <th>review_count</th>\n",
       "    </tr>\n",
       "  </thead>\n",
       "  <tbody>\n",
       "    <tr>\n",
       "      <th>0</th>\n",
       "      <td>South Carlsbad State Beach</td>\n",
       "      <td>115.895878</td>\n",
       "      <td>Balboa Park</td>\n",
       "      <td>92101</td>\n",
       "      <td>5.0</td>\n",
       "      <td>2105</td>\n",
       "    </tr>\n",
       "    <tr>\n",
       "      <th>1</th>\n",
       "      <td>Torrey Pines State Beach</td>\n",
       "      <td>67.294309</td>\n",
       "      <td>Civita Park</td>\n",
       "      <td>92108</td>\n",
       "      <td>4.5</td>\n",
       "      <td>46</td>\n",
       "    </tr>\n",
       "    <tr>\n",
       "      <th>2</th>\n",
       "      <td>Ruocco Park</td>\n",
       "      <td>3.312526</td>\n",
       "      <td>Waterfront Park</td>\n",
       "      <td>92101</td>\n",
       "      <td>4.5</td>\n",
       "      <td>242</td>\n",
       "    </tr>\n",
       "    <tr>\n",
       "      <th>3</th>\n",
       "      <td>Tuna Harbor Park</td>\n",
       "      <td>0.639035</td>\n",
       "      <td>Trolley Barn Park</td>\n",
       "      <td>92116</td>\n",
       "      <td>4.5</td>\n",
       "      <td>102</td>\n",
       "    </tr>\n",
       "    <tr>\n",
       "      <th>4</th>\n",
       "      <td>San Diego Bayfront Park</td>\n",
       "      <td>3.669272</td>\n",
       "      <td>Bay View Park</td>\n",
       "      <td>92118</td>\n",
       "      <td>5.0</td>\n",
       "      <td>42</td>\n",
       "    </tr>\n",
       "    <tr>\n",
       "      <th>...</th>\n",
       "      <td>...</td>\n",
       "      <td>...</td>\n",
       "      <td>...</td>\n",
       "      <td>...</td>\n",
       "      <td>...</td>\n",
       "      <td>...</td>\n",
       "    </tr>\n",
       "    <tr>\n",
       "      <th>825</th>\n",
       "      <td>Crest Canyon Open Space Park</td>\n",
       "      <td>4.061640</td>\n",
       "      <td>Qualcomm Stadium Trolley Station</td>\n",
       "      <td>92108</td>\n",
       "      <td>3.0</td>\n",
       "      <td>45</td>\n",
       "    </tr>\n",
       "    <tr>\n",
       "      <th>828</th>\n",
       "      <td>Chollas Radio System Open Space</td>\n",
       "      <td>5.719391</td>\n",
       "      <td>Del Cerro - San Diego</td>\n",
       "      <td>92120</td>\n",
       "      <td>4.5</td>\n",
       "      <td>12</td>\n",
       "    </tr>\n",
       "    <tr>\n",
       "      <th>829</th>\n",
       "      <td>Canyon Hills Open Space</td>\n",
       "      <td>0.112745</td>\n",
       "      <td>San Diego Metropolitan Transit System</td>\n",
       "      <td>92101</td>\n",
       "      <td>2.5</td>\n",
       "      <td>268</td>\n",
       "    </tr>\n",
       "    <tr>\n",
       "      <th>830</th>\n",
       "      <td>San Pasqual Trails Open Space</td>\n",
       "      <td>161.542345</td>\n",
       "      <td>Petco Park</td>\n",
       "      <td>92101</td>\n",
       "      <td>4.0</td>\n",
       "      <td>1667</td>\n",
       "    </tr>\n",
       "    <tr>\n",
       "      <th>831</th>\n",
       "      <td>Switzer Open Space</td>\n",
       "      <td>0.146953</td>\n",
       "      <td>Ann D. L'Heureux Memorial Dog Park</td>\n",
       "      <td>92008</td>\n",
       "      <td>3.0</td>\n",
       "      <td>50</td>\n",
       "    </tr>\n",
       "  </tbody>\n",
       "</table>\n",
       "<p>532 rows × 6 columns</p>\n",
       "</div>"
      ],
      "text/plain": [
       "                                name       acres  \\\n",
       "0         South Carlsbad State Beach  115.895878   \n",
       "1           Torrey Pines State Beach   67.294309   \n",
       "2                        Ruocco Park    3.312526   \n",
       "3                   Tuna Harbor Park    0.639035   \n",
       "4            San Diego Bayfront Park    3.669272   \n",
       "..                               ...         ...   \n",
       "825     Crest Canyon Open Space Park    4.061640   \n",
       "828  Chollas Radio System Open Space    5.719391   \n",
       "829          Canyon Hills Open Space    0.112745   \n",
       "830    San Pasqual Trails Open Space  161.542345   \n",
       "831               Switzer Open Space    0.146953   \n",
       "\n",
       "                                      name zipcode  rating  review_count  \n",
       "0                              Balboa Park   92101     5.0          2105  \n",
       "1                              Civita Park   92108     4.5            46  \n",
       "2                          Waterfront Park   92101     4.5           242  \n",
       "3                        Trolley Barn Park   92116     4.5           102  \n",
       "4                            Bay View Park   92118     5.0            42  \n",
       "..                                     ...     ...     ...           ...  \n",
       "825       Qualcomm Stadium Trolley Station   92108     3.0            45  \n",
       "828                  Del Cerro - San Diego   92120     4.5            12  \n",
       "829  San Diego Metropolitan Transit System   92101     2.5           268  \n",
       "830                             Petco Park   92101     4.0          1667  \n",
       "831     Ann D. L'Heureux Memorial Dog Park   92008     3.0            50  \n",
       "\n",
       "[532 rows x 6 columns]"
      ]
     },
     "execution_count": 120,
     "metadata": {},
     "output_type": "execute_result"
    }
   ],
   "source": [
    "df2 = pd.concat([park_df, yelp_SD],axis=1,join='inner')\n",
    "df2"
   ]
  },
  {
   "cell_type": "code",
   "execution_count": null,
   "metadata": {},
   "outputs": [],
   "source": []
  }
 ],
 "metadata": {
  "kernelspec": {
   "display_name": "Python 3",
   "language": "python",
   "name": "python3"
  },
  "language_info": {
   "codemirror_mode": {
    "name": "ipython",
    "version": 3
   },
   "file_extension": ".py",
   "mimetype": "text/x-python",
   "name": "python",
   "nbconvert_exporter": "python",
   "pygments_lexer": "ipython3",
   "version": "3.8.5"
  }
 },
 "nbformat": 4,
 "nbformat_minor": 2
}
